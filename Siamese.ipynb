{
 "cells": [
  {
   "cell_type": "code",
   "execution_count": 1,
   "id": "eec26c4c",
   "metadata": {},
   "outputs": [],
   "source": [
    "import torch\n",
    "import torch.nn as nn\n",
    "import torchvision\n",
    "import torchvision.transforms as transforms\n",
    "import matplotlib\n",
    "import matplotlib.pyplot as plt\n",
    "import matplotlib.image as image\n",
    "import numpy as np\n",
    "import os\n",
    "from PIL import Image\n",
    "from torch.utils.data import Dataset, DataLoader\n",
    "import argparse\n",
    "import os\n",
    "import json\n",
    "import shutil\n",
    "import cv2"
   ]
  },
  {
   "cell_type": "code",
   "execution_count": 2,
   "id": "36652c48",
   "metadata": {},
   "outputs": [],
   "source": [
    "trans = transforms.Compose([\n",
    "    transforms.Resize((105,105)),\n",
    "    transforms.ToTensor(),\n",
    "    transforms.Normalize((0.5,0.5,0.5), (0.5,0.5,0.5))\n",
    "])\n",
    "\n",
    "trainset = torchvision.datasets.ImageFolder(root=\"./flatfish/train\", transform=trans)\n",
    "validset = torchvision.datasets.ImageFolder(root=\"./flatfish/validation\", transform=trans)\n",
    "testset = torchvision.datasets.ImageFolder(root=\"./flatfish/test\", transform=trans)"
   ]
  },
  {
   "cell_type": "code",
   "execution_count": 3,
   "id": "afc1b113",
   "metadata": {},
   "outputs": [
    {
     "data": {
      "text/plain": [
       "(tensor([[[ 0.3725,  0.3725,  0.2627,  ..., -0.7804, -0.8118, -0.7647],\n",
       "          [ 0.3804,  0.4039,  0.3098,  ..., -0.7333, -0.7725, -0.6863],\n",
       "          [ 0.3961,  0.3804,  0.5137,  ..., -0.7569, -0.7804, -0.7725],\n",
       "          ...,\n",
       "          [ 0.3098,  0.2706,  0.2471,  ..., -0.8353, -0.8667, -0.8588],\n",
       "          [ 0.2549,  0.2549,  0.2392,  ..., -0.8667, -0.8980, -0.8745],\n",
       "          [ 0.2078,  0.2157,  0.2314,  ..., -0.8667, -0.8980, -0.8824]],\n",
       " \n",
       "         [[-0.1059, -0.1216, -0.1529,  ..., -0.8431, -0.8510, -0.7098],\n",
       "          [-0.1216, -0.1451,  0.0196,  ..., -0.8039, -0.8118, -0.6078],\n",
       "          [-0.1373, -0.0824,  0.3020,  ..., -0.8039, -0.8039, -0.6549],\n",
       "          ...,\n",
       "          [ 0.2157,  0.1765,  0.1529,  ..., -0.8510, -0.8902, -0.8824],\n",
       "          [ 0.1451,  0.1451,  0.1294,  ..., -0.8902, -0.9216, -0.8980],\n",
       "          [ 0.0980,  0.1059,  0.1216,  ..., -0.8980, -0.9216, -0.9059]],\n",
       " \n",
       "         [[-0.9059, -0.8902, -0.7882,  ..., -0.8824, -0.8824, -0.6000],\n",
       "          [-0.9059, -0.8588, -0.4588,  ..., -0.8118, -0.7961, -0.4353],\n",
       "          [-0.8667, -0.7725,  0.1294,  ..., -0.8353, -0.8275, -0.5059],\n",
       "          ...,\n",
       "          [ 0.1451,  0.1059,  0.0824,  ..., -0.9137, -0.9294, -0.9216],\n",
       "          [ 0.0667,  0.0667,  0.0510,  ..., -0.9216, -0.9608, -0.9373],\n",
       "          [ 0.0118,  0.0196,  0.0353,  ..., -0.9294, -0.9608, -0.9451]]]),\n",
       " 0)"
      ]
     },
     "execution_count": 3,
     "metadata": {},
     "output_type": "execute_result"
    }
   ],
   "source": [
    "#18번째 데이터 확인, -1부터 1 사이 값으로 정규화된 것을 확인할 수 있음. 라벨값은 0\n",
    "trainset.__getitem__(1)"
   ]
  },
  {
   "cell_type": "code",
   "execution_count": 4,
   "id": "7de247d1",
   "metadata": {},
   "outputs": [
    {
     "name": "stdout",
     "output_type": "stream",
     "text": [
      "10 4 4\n"
     ]
    }
   ],
   "source": [
    "#trainset 개수 확인\n",
    "print(len(trainset), len(validset), len(testset))"
   ]
  },
  {
   "cell_type": "code",
   "execution_count": 5,
   "id": "fc795ba8",
   "metadata": {},
   "outputs": [
    {
     "data": {
      "text/plain": [
       "['farmed', 'natural']"
      ]
     },
     "execution_count": 5,
     "metadata": {},
     "output_type": "execute_result"
    }
   ],
   "source": [
    "#양식(farmed)과 자연산(natural) 클래스 구분\n",
    "classes = trainset.classes\n",
    "classes"
   ]
  },
  {
   "cell_type": "code",
   "execution_count": 6,
   "id": "cb0666a7",
   "metadata": {},
   "outputs": [],
   "source": [
    "train_loader = DataLoader(trainset, batch_size = len(trainset), shuffle = True, num_workers = 4)\n",
    "valid_loader = DataLoader(validset, batch_size = len(validset), shuffle = True, num_workers = 4)\n",
    "test_loader = DataLoader(testset, batch_size = len(testset), shuffle = True, num_workers = 4)"
   ]
  },
  {
   "cell_type": "code",
   "execution_count": 7,
   "id": "a68b4644",
   "metadata": {},
   "outputs": [],
   "source": [
    "dataiter = iter(train_loader)\n",
    "train_images, train_labels = dataiter.next()\n",
    "dataiter = iter(valid_loader)\n",
    "valid_images, valid_labels = dataiter.next()\n",
    "dataiter = iter(test_loader)\n",
    "test_images, test_labels = dataiter.next()"
   ]
  },
  {
   "cell_type": "code",
   "execution_count": null,
   "id": "9d75ac6a",
   "metadata": {},
   "outputs": [],
   "source": []
  },
  {
   "cell_type": "code",
   "execution_count": 8,
   "id": "a221aa89",
   "metadata": {},
   "outputs": [
    {
     "name": "stdout",
     "output_type": "stream",
     "text": [
      "tensor([0, 1, 1, 0, 0, 1, 1, 1, 0, 0]) tensor([0, 0, 1, 1]) tensor([1, 1, 0, 0])\n"
     ]
    }
   ],
   "source": [
    "print(train_labels, valid_labels, test_labels)"
   ]
  },
  {
   "cell_type": "code",
   "execution_count": 9,
   "id": "e7173bbd",
   "metadata": {},
   "outputs": [
    {
     "name": "stdout",
     "output_type": "stream",
     "text": [
      "torch.Size([10, 3, 105, 105])\n"
     ]
    }
   ],
   "source": [
    "#배치사이즈, RGB, 가로길이, 세로길이\n",
    "print(train_images.shape)"
   ]
  },
  {
   "cell_type": "code",
   "execution_count": 10,
   "id": "65883286",
   "metadata": {},
   "outputs": [],
   "source": [
    "def imshow(img):\n",
    "    img = img / 2 + 0.5 #unnormalize\n",
    "    np_img = img.numpy()\n",
    "    plt.imshow(np.transpose(np_img, (1,2,0)))\n",
    "    \n",
    "    print((np.transpose(np_img, (1,2,0))))"
   ]
  },
  {
   "cell_type": "code",
   "execution_count": 11,
   "id": "2818dc36",
   "metadata": {},
   "outputs": [
    {
     "name": "stdout",
     "output_type": "stream",
     "text": [
      "[[[0.45490196 0.5882353  0.7372549 ]\n",
      "  [0.45490196 0.5882353  0.7372549 ]\n",
      "  [0.45490196 0.5882353  0.7372549 ]\n",
      "  ...\n",
      "  [0.56078434 0.654902   0.7490196 ]\n",
      "  [0.56078434 0.654902   0.7490196 ]\n",
      "  [0.56078434 0.654902   0.7490196 ]]\n",
      "\n",
      " [[0.45490196 0.5882353  0.73333335]\n",
      "  [0.45490196 0.5882353  0.73333335]\n",
      "  [0.45490196 0.5882353  0.73333335]\n",
      "  ...\n",
      "  [0.56078434 0.654902   0.7490196 ]\n",
      "  [0.56078434 0.654902   0.7490196 ]\n",
      "  [0.56078434 0.654902   0.7490196 ]]\n",
      "\n",
      " [[0.45490196 0.5882353  0.73333335]\n",
      "  [0.45490196 0.5882353  0.73333335]\n",
      "  [0.45490196 0.5882353  0.73333335]\n",
      "  ...\n",
      "  [0.56078434 0.654902   0.7490196 ]\n",
      "  [0.56078434 0.654902   0.7490196 ]\n",
      "  [0.56078434 0.654902   0.74509805]]\n",
      "\n",
      " ...\n",
      "\n",
      " [[0.2509804  0.2509804  0.28235295]\n",
      "  [0.27450982 0.27450982 0.30588236]\n",
      "  [0.24313724 0.24313724 0.2784314 ]\n",
      "  ...\n",
      "  [0.38039216 0.03529412 0.03137255]\n",
      "  [0.34117648 0.03137255 0.01960784]\n",
      "  [0.31764707 0.03137255 0.01960784]]\n",
      "\n",
      " [[0.19607842 0.19607842 0.22745097]\n",
      "  [0.27450982 0.27450982 0.30588236]\n",
      "  [0.25490198 0.25490198 0.28627452]\n",
      "  ...\n",
      "  [0.40784314 0.04313725 0.03529412]\n",
      "  [0.36862746 0.03529412 0.02745098]\n",
      "  [0.3372549  0.03137255 0.02745098]]\n",
      "\n",
      " [[0.23921567 0.23921567 0.27058825]\n",
      "  [0.27450982 0.27450982 0.30588236]\n",
      "  [0.27058825 0.27058825 0.3019608 ]\n",
      "  ...\n",
      "  [0.43529412 0.05490196 0.03529412]\n",
      "  [0.39215687 0.04705882 0.03529412]\n",
      "  [0.36078432 0.03137255 0.03137255]]]\n"
     ]
    },
    {
     "data": {
      "image/png": "[encoded data removed]",
      "text/plain": [
       "<Figure size 432x288 with 1 Axes>"
      ]
     },
     "metadata": {
      "needs_background": "light"
     },
     "output_type": "display_data"
    }
   ],
   "source": [
    "imshow(train_images[2])"
   ]
  },
  {
   "cell_type": "code",
   "execution_count": null,
   "id": "bf4a3e24",
   "metadata": {},
   "outputs": [],
   "source": []
  },
  {
   "cell_type": "code",
   "execution_count": 12,
   "id": "e144b43c",
   "metadata": {},
   "outputs": [],
   "source": [
    "class SiameseNet(nn.Module):\n",
    "    \n",
    "    def __init__(self):\n",
    "        super(SiameseNet, self).__init__()\n",
    "\n",
    "        self.conv = nn.Sequential(\n",
    "            nn.Conv2d(1, 64, 10),  # 64@96*96\n",
    "            nn.ReLU(inplace=True),\n",
    "            nn.MaxPool2d(2),  # 64@48*48\n",
    "            nn.Conv2d(64, 128, 7),\n",
    "            nn.ReLU(inplace=True),  # 128@42*42\n",
    "            nn.MaxPool2d(2),  # 128@21*21\n",
    "            nn.Conv2d(128, 128, 4),\n",
    "            nn.ReLU(inplace=True),  # 128@18*18\n",
    "            nn.MaxPool2d(2),  # 128@9*9\n",
    "            nn.Conv2d(128, 256, 4),\n",
    "            nn.ReLU(inplace=True),  # 256@6*6\n",
    "        )\n",
    "        self.liner = nn.Sequential(nn.Linear(9216, 4096), nn.Sigmoid())\n",
    "        self.out = nn.Linear(4096, 1)\n",
    "\n",
    "        # weight init\n",
    "        for m in self.modules():\n",
    "            if isinstance(m, nn.Conv2d):\n",
    "                nn.init.kaiming_uniform_(m.weight)\n",
    "            elif isinstance(m, nn.Linear):\n",
    "                nn.init.xavier_uniform_(m.weight)\n",
    "\n",
    "    def sub_forward(self, x):\n",
    "        x = self.conv(x)\n",
    "        x = x.view(x.size()[0], -1)\n",
    "        x = self.liner(x)\n",
    "        return x\n",
    "\n",
    "    def forward(self, x1, x2):\n",
    "        # encode image pairs\n",
    "        h1 = self.sub_forward(x1)\n",
    "        h2 = self.sub_forward(x2)\n",
    "\n",
    "        # compute l1 distance\n",
    "        diff = torch.abs(h1 - h2)\n",
    "\n",
    "        # score the similarity between the 2 encodings\n",
    "        scores = self.out(diff)\n",
    "\n",
    "        # return scores (without sigmoid) and use bce_with_logit\n",
    "        # for increased numerical stability\n",
    "        return scores"
   ]
  },
  {
   "cell_type": "code",
   "execution_count": 13,
   "id": "a717f144",
   "metadata": {},
   "outputs": [],
   "source": [
    "model = SiameseNet()"
   ]
  },
  {
   "cell_type": "code",
   "execution_count": 14,
   "id": "d8c1fb46",
   "metadata": {},
   "outputs": [
    {
     "name": "stdout",
     "output_type": "stream",
     "text": [
      "The model will be running on cpu device\n",
      "\n"
     ]
    },
    {
     "data": {
      "text/plain": [
       "SiameseNet(\n",
       "  (conv): Sequential(\n",
       "    (0): Conv2d(1, 64, kernel_size=(10, 10), stride=(1, 1))\n",
       "    (1): ReLU(inplace=True)\n",
       "    (2): MaxPool2d(kernel_size=2, stride=2, padding=0, dilation=1, ceil_mode=False)\n",
       "    (3): Conv2d(64, 128, kernel_size=(7, 7), stride=(1, 1))\n",
       "    (4): ReLU(inplace=True)\n",
       "    (5): MaxPool2d(kernel_size=2, stride=2, padding=0, dilation=1, ceil_mode=False)\n",
       "    (6): Conv2d(128, 128, kernel_size=(4, 4), stride=(1, 1))\n",
       "    (7): ReLU(inplace=True)\n",
       "    (8): MaxPool2d(kernel_size=2, stride=2, padding=0, dilation=1, ceil_mode=False)\n",
       "    (9): Conv2d(128, 256, kernel_size=(4, 4), stride=(1, 1))\n",
       "    (10): ReLU(inplace=True)\n",
       "  )\n",
       "  (liner): Sequential(\n",
       "    (0): Linear(in_features=9216, out_features=4096, bias=True)\n",
       "    (1): Sigmoid()\n",
       "  )\n",
       "  (out): Linear(in_features=4096, out_features=1, bias=True)\n",
       ")"
      ]
     },
     "execution_count": 14,
     "metadata": {},
     "output_type": "execute_result"
    }
   ],
   "source": [
    "# Define your execution device \n",
    "device = torch.device(\"cuda:0\" if torch.cuda.is_available() else \"cpu\") \n",
    "print(\"The model will be running on\", device, \"device\\n\") \n",
    "model.to(device)    # Convert model parameters and buffers to CPU or Cuda "
   ]
  },
  {
   "cell_type": "code",
   "execution_count": null,
   "id": "4ff45895",
   "metadata": {},
   "outputs": [],
   "source": []
  },
  {
   "cell_type": "code",
   "execution_count": null,
   "id": "013caf05",
   "metadata": {},
   "outputs": [],
   "source": []
  },
  {
   "cell_type": "code",
   "execution_count": 15,
   "id": "15ee5072",
   "metadata": {},
   "outputs": [],
   "source": [
    "num_epochs = 100"
   ]
  },
  {
   "cell_type": "code",
   "execution_count": null,
   "id": "4d458883",
   "metadata": {},
   "outputs": [],
   "source": [
    "# Training Function \n",
    "best_accuracy = 0.0 \n",
    "     \n",
    "print(\"Begin training...\") \n",
    "for epoch in range(1, num_epochs+1): \n",
    "    running_train_loss = 0.0 \n",
    "    running_accuracy = 0.0 \n",
    "    running_vall_loss = 0.0 \n",
    "    total = 0 \n",
    "    \n",
    "    # Training Loop\n",
    "    for (x1, x2) in train_loader:\n",
    "    #for data in enumerate(train_loader, 0):\n",
    "        out = model(x1, x2) \n",
    "        optimizer.zero_grad()   # zero the parameter gradients          \n",
    "        predicted_outputs = model(inputs)   # predict output from the model \n",
    "        train_loss = loss_fn(predicted_outputs, outputs)   # calculate loss for the predicted output  \n",
    "        train_loss.backward()   # backpropagate the loss \n",
    "        optimizer.step()        # adjust parameters based on the calculated gradients \n",
    "        running_train_loss +=train_loss.item()  # track the loss value \n",
    " \n",
    "    # Calculate training loss value \n",
    "    train_loss_value = running_train_loss/len(train_loader) \n",
    " \n",
    "    # Validation Loop \n",
    "    with torch.no_grad(): \n",
    "        model.eval() \n",
    "        for data in validate_loader: \n",
    "            inputs, outputs = data \n",
    "            predicted_outputs = model(inputs) \n",
    "            val_loss = loss_fn(predicted_outputs, outputs) \n",
    "             \n",
    "            # The label with the highest value will be our prediction \n",
    "            _, predicted = torch.max(predicted_outputs, 1) \n",
    "            running_vall_loss += val_loss.item()  \n",
    "            total += outputs.size(0) \n",
    "            running_accuracy += (predicted == outputs).sum().item() \n",
    " \n",
    "    # Calculate validation loss value \n",
    "    val_loss_value = running_vall_loss/len(validate_loader) \n",
    "                \n",
    "    # Calculate accuracy as the number of correct predictions in the validation batch divided by the total number of predictions done.  \n",
    "    accuracy = (100 * running_accuracy / total)     \n",
    " \n",
    "    # Save the model if the accuracy is the best \n",
    "    if accuracy > best_accuracy: \n",
    "        saveModel() \n",
    "        best_accuracy = accuracy \n",
    "         \n",
    "    # Print the statistics of the epoch \n",
    "    print('Completed training batch', epoch, 'Training Loss is: %.4f' %train_loss_value, 'Validation Loss is: %.4f' %val_loss_value, 'Accuracy is %d %%' % (accuracy))"
   ]
  },
  {
   "cell_type": "code",
   "execution_count": null,
   "id": "cd08fb04",
   "metadata": {},
   "outputs": [],
   "source": []
  },
  {
   "cell_type": "code",
   "execution_count": null,
   "id": "392bee44",
   "metadata": {},
   "outputs": [],
   "source": []
  },
  {
   "cell_type": "code",
   "execution_count": null,
   "id": "3f4c403c",
   "metadata": {},
   "outputs": [],
   "source": []
  }
 ],
 "metadata": {
  "kernelspec": {
   "display_name": "Python 3 (ipykernel)",
   "language": "python",
   "name": "python3"
  },
  "language_info": {
   "codemirror_mode": {
    "name": "ipython",
    "version": 3
   },
   "file_extension": ".py",
   "mimetype": "text/x-python",
   "name": "python",
   "nbconvert_exporter": "python",
   "pygments_lexer": "ipython3",
   "version": "3.9.13"
  }
 },
 "nbformat": 4,
 "nbformat_minor": 5
}
